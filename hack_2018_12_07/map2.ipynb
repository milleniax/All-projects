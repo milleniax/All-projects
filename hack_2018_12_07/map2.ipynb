{
 "cells": [
  {
   "cell_type": "code",
   "execution_count": 1,
   "metadata": {},
   "outputs": [],
   "source": [
    "import arcgis\n",
    "from arcgis.gis import GIS\n",
    "import arcgis.geocoding as geocoding\n",
    "from geopy.distance import geodesic\n",
    "from geopy.geocoders import Nominatim\n",
    "import osmapi\n",
    "import csv\n",
    "import pandas as pd"
   ]
  },
  {
   "cell_type": "code",
   "execution_count": 5,
   "metadata": {},
   "outputs": [],
   "source": [
    "my_gis = GIS()"
   ]
  },
  {
   "cell_type": "code",
   "execution_count": 3,
   "metadata": {},
   "outputs": [],
   "source": [
    "hello_map = my_gis.map(\"Санкт-Петербург\", zoomlevel=15)"
   ]
  },
  {
   "cell_type": "code",
   "execution_count": 4,
   "metadata": {},
   "outputs": [],
   "source": [
    "hello_map.basemap = 'osm'"
   ]
  },
  {
   "cell_type": "code",
   "execution_count": 5,
   "metadata": {},
   "outputs": [],
   "source": [
    "class Adres_read():\n",
    "    def __init__(self, adress):\n",
    "        self.__geolocator = Nominatim(user_agent=\"specify_your_app_name_here\")\n",
    "        self.__location = self.__geolocator.geocode(adress)\n",
    "        # self.__location_place = (self.__location.latitude, self.__location.longitude)\n",
    "\n",
    "        self.__bounding = self.__location.raw['boundingbox']\n",
    "\n",
    "    def get_points(self):\n",
    "        return self.__bounding"
   ]
  },
  {
   "cell_type": "code",
   "execution_count": 6,
   "metadata": {},
   "outputs": [],
   "source": [
    "class Osm_reader():\n",
    "#     def __init__(self, min_lon, min_lat, max_lon, max_lat):\n",
    "    def __init__(self, lil):\n",
    "#         print(lil)\n",
    "        self.__api = osmapi.OsmApi()\n",
    "#         self.__tmp = self.__api.Map(min_lon, min_lat, max_lon, max_lat)\n",
    "        self.__tmp = self.__api.Map(float(lil[2]), float(lil[0]), float(lil[3]), float(lil[1]))\n",
    "        self.__ret = []\n",
    "\n",
    "        for e in self.__tmp:\n",
    "            try:\n",
    "                try:\n",
    "                    try:\n",
    "                        type_ = e['type']\n",
    "                        timestamp = e['data']['timestamp']\n",
    "                        id = e['data']['id']\n",
    "                        lat = e['data']['lat']\n",
    "                        lon = e['data']['lon']\n",
    "                        uid = e['data']['uid']\n",
    "                        user = str(e['data']['user'])\n",
    "                        tag = e['data']['tag']\n",
    "                        delta_days = (osmapi.datetime.today() - timestamp).days\n",
    "\n",
    "                        if type_ == 'node':\n",
    "                            self.__ret.append([id, lat, lon, uid, timestamp, user])\n",
    "\n",
    "                    except KeyError:\n",
    "                        pass\n",
    "                except IndexError:\n",
    "                    pass\n",
    "            except UnicodeEncodeError as err:\n",
    "                print(err, str(e) + '\\n')\n",
    "\n",
    "    def create_file(self):\n",
    "        with open('dumps.csv', \"w\", newline='', encoding='utf-8') as csv_file:\n",
    "            writer = csv.writer(csv_file, delimiter=',')\n",
    "            for line in self.__ret:\n",
    "#                 print(line)\n",
    "                writer.writerow(line)\n",
    "                \n",
    "            csv_file.close()\n",
    "\n",
    "    def get_values(self):\n",
    "        return self.__ret"
   ]
  },
  {
   "cell_type": "code",
   "execution_count": 9,
   "metadata": {},
   "outputs": [
    {
     "data": {
      "text/html": [
       "<p>Failed to display Jupyter Widget of type <code>MapView</code>.</p>\n",
       "<p>\n",
       "  If you're reading this message in the Jupyter Notebook or JupyterLab Notebook, it may mean\n",
       "  that the widgets JavaScript is still loading. If this message persists, it\n",
       "  likely means that the widgets JavaScript library is either not installed or\n",
       "  not enabled. See the <a href=\"https://ipywidgets.readthedocs.io/en/stable/user_install.html\">Jupyter\n",
       "  Widgets Documentation</a> for setup instructions.\n",
       "</p>\n",
       "<p>\n",
       "  If you're reading this message in another frontend (for example, a static\n",
       "  rendering on GitHub or <a href=\"https://nbviewer.jupyter.org/\">NBViewer</a>),\n",
       "  it may mean that your frontend doesn't currently support widgets.\n",
       "</p>\n"
      ],
      "text/plain": [
       "MapView(jupyter_target='notebook', layout=Layout(height='400px', width='100%'), ready=True, zoom=14.0)"
      ]
     },
     "metadata": {},
     "output_type": "execute_result"
    },
    {
     "data": {
      "text/html": [
       "<div class=\"map-static-img-preview-ac9751d7-6010-4fd1-b9b1-e5a572eb9aef\"><img src=\"\"></img></div>"
      ],
      "text/plain": [
       "<IPython.core.display.HTML object>"
      ]
     },
     "metadata": {},
     "output_type": "execute_result"
    },
    {
     "name": "stdout",
     "output_type": "stream",
     "text": [
      "creating\n",
      "file created\n",
      "creating\n",
      "file created\n",
      "creating\n",
      "file created\n",
      "creating\n",
      "file created\n",
      "creating\n",
      "file created\n",
      "creating\n",
      "file created\n",
      "creating\n",
      "beda\n",
      "creating\n",
      "beda\n",
      "creating\n",
      "beda\n",
      "creating\n",
      "beda\n"
     ]
    }
   ],
   "source": [
    "def find_addr(hello_map, g):\n",
    "#     try:\n",
    "    hello_map.draw(g)\n",
    "    geocoded = geocoding.reverse_geocode(g)\n",
    "    address = geocoded['address']['Match_addr']\n",
    "    adres_read = Adres_read(address)\n",
    "#     print(adres_read.get_points())\n",
    "\n",
    "    try:\n",
    "        print('creating')\n",
    "        a = Osm_reader(adres_read.get_points())\n",
    "        a.create_file()\n",
    "        print('file created')\n",
    "    except:\n",
    "        print(\"beda\")\n",
    "\n",
    "\n",
    "hello_map.on_click(find_addr)\n",
    "# hello_map.on_click(add_costil())\n",
    "hello_map"
   ]
  },
  {
   "cell_type": "code",
   "execution_count": 10,
   "metadata": {},
   "outputs": [],
   "source": [
    "# def add_costil():\n",
    "kostil = pd.read_csv('dumps.csv')\n",
    "kostil.columns = ['id', 'lat', 'lon', 'uid', 'timestamp', 'user']\n",
    "if len(kostil) > 999:\n",
    "    kostil = kostil[0:1000]\n",
    "    hello_map.add_layer(my_gis.content.import_data(kostil))\n",
    "else:\n",
    "    hello_map.add_layer(my_gis.content.import_data(kostil))"
   ]
  },
  {
   "cell_type": "code",
   "execution_count": 11,
   "metadata": {},
   "outputs": [],
   "source": [
    "# hello_map.add_layer(my_gis.content.import_data(kostil))"
   ]
  },
  {
   "cell_type": "code",
   "execution_count": null,
   "metadata": {},
   "outputs": [],
   "source": []
  },
  {
   "cell_type": "code",
   "execution_count": null,
   "metadata": {},
   "outputs": [],
   "source": []
  }
 ],
 "metadata": {
  "kernelspec": {
   "display_name": "Python 3",
   "language": "python",
   "name": "python3"
  },
  "language_info": {
   "codemirror_mode": {
    "name": "ipython",
    "version": 3
   },
   "file_extension": ".py",
   "mimetype": "text/x-python",
   "name": "python",
   "nbconvert_exporter": "python",
   "pygments_lexer": "ipython3",
   "version": "3.7.0"
  }
 },
 "nbformat": 4,
 "nbformat_minor": 2
}
