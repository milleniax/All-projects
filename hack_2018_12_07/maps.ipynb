{
 "cells": [
  {
   "cell_type": "code",
   "execution_count": 1,
   "metadata": {},
   "outputs": [],
   "source": [
    "import arcgis\n",
    "from arcgis.gis import GIS"
   ]
  },
  {
   "cell_type": "code",
   "execution_count": 2,
   "metadata": {},
   "outputs": [],
   "source": [
    "my_gis = GIS()"
   ]
  },
  {
   "cell_type": "code",
   "execution_count": 3,
   "metadata": {},
   "outputs": [],
   "source": [
    "# my_gis = GIS(url='http://arcgis.com', username='kerriop', password='dima3005')"
   ]
  },
  {
   "cell_type": "code",
   "execution_count": 4,
   "metadata": {},
   "outputs": [],
   "source": [
    "# gis = GIS(\"https://www.arcgis.com\", \"arcgis_python\", \"P@ssword123\")"
   ]
  },
  {
   "cell_type": "code",
   "execution_count": 5,
   "metadata": {},
   "outputs": [],
   "source": [
    "hello_map = my_gis.map(\"Санкт-Петербург\", zoomlevel=15)"
   ]
  },
  {
   "cell_type": "code",
   "execution_count": 6,
   "metadata": {},
   "outputs": [],
   "source": [
    "hello_map.basemap = 'osm'"
   ]
  },
  {
   "cell_type": "code",
   "execution_count": 7,
   "metadata": {},
   "outputs": [],
   "source": [
    "from geopy.distance import geodesic\n",
    "from geopy.geocoders import Nominatim\n",
    "\n",
    "import osmapi\n",
    "import csv\n",
    "\n",
    "\n",
    "class Osm_reader():\n",
    "    def __init__(self, min_lon, min_lat, max_lon, max_lat):\n",
    "        self.__api = osmapi.OsmApi()\n",
    "        self.__tmp = self.__api.Map(min_lon, min_lat, max_lon, max_lat)\n",
    "        self.__ret = []\n",
    "\n",
    "        for e in self.__tmp:\n",
    "            try:\n",
    "                try:\n",
    "                    try:\n",
    "                        type_ = e['type']\n",
    "                        timestamp = e['data']['timestamp']\n",
    "                        id = e['data']['id']\n",
    "                        lat = e['data']['lat']\n",
    "                        lon = e['data']['lon']\n",
    "                        uid = e['data']['uid']\n",
    "                        user = str(e['data']['user'])\n",
    "                        tag = e['data']['tag']\n",
    "                        delta_days = (osmapi.datetime.today() - timestamp).days\n",
    "\n",
    "                        if type_ == 'node':\n",
    "                            self.__ret.append([id, lat, lon, uid, timestamp, user])\n",
    "                    except KeyError:\n",
    "                        pass\n",
    "                except IndexError:\n",
    "                    pass\n",
    "            except UnicodeEncodeError as err:\n",
    "                print(err, str(e) + '\\n')\n",
    "\n",
    "    def create_file(self):\n",
    "        with open('dump.csv', \"w\", newline='', encoding='utf-8') as csv_file:\n",
    "            writer = csv.writer(csv_file, delimiter=',')\n",
    "            # writer.writerow(['id', 'lat', 'lon', 'uid', 'timestamp'])\n",
    "            for line in self.__ret:\n",
    "                writer.writerow(line)\n",
    "\n",
    "    def get_values(self):\n",
    "        return self.__ret\n",
    "\n",
    "\n",
    "class Adres_read():\n",
    "    def __init__(self, adress):\n",
    "        self.__geolocator = Nominatim(user_agent=\"specify_your_app_name_here\")\n",
    "        self.__location = self.__geolocator.geocode(adress)\n",
    "        # self.__location_place = (self.__location.latitude, self.__location.longitude)\n",
    "\n",
    "        self.__bounding = self.__location.raw['boundingbox']\n",
    "\n",
    "    def get_points(self):\n",
    "        return self.__bounding\n",
    "    \n",
    "def find_addr(hello_map, g):\n",
    "        hello_map.draw(g)\n",
    "        geocoded = geocoding.reverse_geocode(g)\n",
    "        address = geocoded['address']['Match_addr']\n",
    "        adres_read = Adres_read(address)\n",
    "        \n",
    "        a = Osm_reader(adres_read.get_points())\n",
    "        result = a.get_values()\n",
    "        a.create_file()\n",
    "        \n",
    "\n"
   ]
  },
  {
   "cell_type": "code",
   "execution_count": 8,
   "metadata": {
    "scrolled": false
   },
   "outputs": [
    {
     "data": {
      "application/vnd.jupyter.widget-view+json": {
       "model_id": "a1e71f361f91460891bb4b2980610e52",
       "version_major": 2,
       "version_minor": 0
      },
      "text/plain": [
       "MapView(layout=Layout(height='400px', width='100%'), zoom=15.0)"
      ]
     },
     "metadata": {},
     "output_type": "display_data"
    },
    {
     "data": {
      "text/html": [
       "<div class=\"map-static-img-preview-753918d6-ab65-41d3-9a81-1c970cb7aed0\"><img src=\"\"></img></div>"
      ],
      "text/plain": [
       "<IPython.core.display.HTML object>"
      ]
     },
     "metadata": {},
     "output_type": "display_data"
    }
   ],
   "source": [
    "hello_map"
   ]
  },
  {
   "cell_type": "code",
   "execution_count": 9,
   "metadata": {},
   "outputs": [
    {
     "ename": "SyntaxError",
     "evalue": "invalid syntax (<ipython-input-9-00b07acfef49>, line 55)",
     "output_type": "error",
     "traceback": [
      "\u001b[1;36m  File \u001b[1;32m\"<ipython-input-9-00b07acfef49>\"\u001b[1;36m, line \u001b[1;32m55\u001b[0m\n\u001b[1;33m    except:\u001b[0m\n\u001b[1;37m         ^\u001b[0m\n\u001b[1;31mSyntaxError\u001b[0m\u001b[1;31m:\u001b[0m invalid syntax\n"
     ]
    }
   ],
   "source": [
    "import osmapi\n",
    "import csv\n",
    "\n",
    "\n",
    "class Osm_reader():\n",
    "    def __init__(self, min_lon, min_lat, max_lon, max_lat):\n",
    "        self.__api = osmapi.OsmApi()\n",
    "        self.__tmp = self.__api.Map(min_lon, min_lat, max_lon, max_lat)\n",
    "        self.__ret = []\n",
    "\n",
    "        for e in self.__tmp:\n",
    "            try:\n",
    "                try:\n",
    "                    try:\n",
    "                        type_ = e['type']\n",
    "                        timestamp = e['data']['timestamp']\n",
    "                        id = e['data']['id']\n",
    "                        lat = e['data']['lat']\n",
    "                        lon = e['data']['lon']\n",
    "                        uid = e['data']['uid']\n",
    "                        user = str(e['data']['user'])\n",
    "                        tag = e['data']['tag']\n",
    "                        delta_days = (osmapi.datetime.today() - timestamp).days\n",
    "\n",
    "                        if type_ == 'node':\n",
    "                            self.__ret.append([id, lat, lon, uid, timestamp, user])\n",
    "                            # print(e)\n",
    "                            # print('type:', type_)\n",
    "                            # print('timestamp:', timestamp)\n",
    "                            # print(self.__ret[-1])\n",
    "                            # print('------------------------------------')\n",
    "                    except KeyError:\n",
    "                        pass\n",
    "                except IndexError:\n",
    "                    pass\n",
    "            except UnicodeEncodeError as err:\n",
    "                print(err, str(e) + '\\n')\n",
    "\n",
    "    # def __str__(self):\n",
    "    #     for e in self.__ret:\n",
    "    #         print(e)\n",
    "\n",
    "    def create_file(self):\n",
    "        with open('dump.csv', \"w\", newline='', encoding='utf-8') as csv_file:\n",
    "            writer = csv.writer(csv_file, delimiter=',')\n",
    "            # writer.writerow(['id', 'lat', 'lon', 'uid', 'timestamp'])\n",
    "            for line in self.__ret:\n",
    "                writer.writerow(line)\n",
    "\n",
    "    def get_values(self):\n",
    "        return self.__ret\n",
    "\n",
    "\n",
    "        \n",
    "    except:\n",
    "#         print(\"Try another...\")\n",
    "        pass\n",
    "hello_map.on_click(find_addr)\n",
    "# adres_read = \"\"\n",
    "    \n",
    "if __name__ == '__main__':\n",
    "#     hello_map\n",
    "    a = Osm_reader(adres_read.get_points())\n",
    "    result = a.get_values()\n",
    "    a.create_file()"
   ]
  },
  {
   "cell_type": "code",
   "execution_count": null,
   "metadata": {},
   "outputs": [],
   "source": []
  },
  {
   "cell_type": "code",
   "execution_count": null,
   "metadata": {},
   "outputs": [],
   "source": []
  },
  {
   "cell_type": "code",
   "execution_count": 244,
   "metadata": {},
   "outputs": [],
   "source": [
    "# hello_map.height = '600px'"
   ]
  },
  {
   "cell_type": "code",
   "execution_count": 249,
   "metadata": {},
   "outputs": [],
   "source": [
    "# location = arcgis.geocoding.geocode('Санкт-Петербург, Дворцовая площадь', max_locations=1)[0]"
   ]
  },
  {
   "cell_type": "code",
   "execution_count": 250,
   "metadata": {},
   "outputs": [],
   "source": [
    "# hello_map.extent = location['extent']"
   ]
  },
  {
   "cell_type": "code",
   "execution_count": 186,
   "metadata": {},
   "outputs": [],
   "source": [
    "# from IPython.display import display\n",
    "# items = gis.content.search('title:Санкт-Петербург', item_type='Feature Collection')\n",
    "# for item in items:\n",
    "#     display(item)"
   ]
  },
  {
   "cell_type": "code",
   "execution_count": 251,
   "metadata": {
    "scrolled": true
   },
   "outputs": [
    {
     "data": {
      "text/plain": [
       "'============================='"
      ]
     },
     "execution_count": 251,
     "metadata": {},
     "output_type": "execute_result"
    }
   ],
   "source": [
    "\"============================\"\n",
    "# import pandas as pd\n",
    "# import xml.etree.cElementTree as et\n",
    "\n",
    "\n",
    "# def getvalueofnode(node):\n",
    "#     \"\"\" return node text or None \"\"\"\n",
    "#     return node.text if node is not None else None\n",
    "\n",
    "\n",
    "# parsedXML = et.parse('map.osm')\n",
    "# dfcols = ['id', 'uid', 'timestamp', 'lat', 'lon']\n",
    "# df_xml = pd.DataFrame(columns=dfcols)\n",
    "\n",
    "# for node in parsedXML.getroot():\n",
    "#     id = node.attrib.get('id')\n",
    "#     uid = node.attrib.get('uid')\n",
    "#     timestamp = node.attrib.get('timestamp')\n",
    "#     lat = node.attrib.get('lat')\n",
    "#     lon = node.attrib.get('lon')\n",
    "\n",
    "#     df_xml = df_xml.append(\n",
    "#         pd.Series([id, uid, timestamp, lat, lon], index=dfcols),\n",
    "#         ignore_index=True)\n",
    "    \n",
    "# df_xml = df_xml[1:]\n",
    "# df_xml.head()\n",
    "\"=============================\""
   ]
  },
  {
   "cell_type": "code",
   "execution_count": 10,
   "metadata": {},
   "outputs": [
    {
     "ename": "NameError",
     "evalue": "name 'pd' is not defined",
     "output_type": "error",
     "traceback": [
      "\u001b[1;31m---------------------------------------------------------------------------\u001b[0m",
      "\u001b[1;31mNameError\u001b[0m                                 Traceback (most recent call last)",
      "\u001b[1;32m<ipython-input-10-d5a4a64e30ac>\u001b[0m in \u001b[0;36m<module>\u001b[1;34m()\u001b[0m\n\u001b[1;32m----> 1\u001b[1;33m \u001b[0mkostil\u001b[0m \u001b[1;33m=\u001b[0m \u001b[0mpd\u001b[0m\u001b[1;33m.\u001b[0m\u001b[0mread_csv\u001b[0m\u001b[1;33m(\u001b[0m\u001b[1;34m'dump.csv'\u001b[0m\u001b[1;33m)\u001b[0m\u001b[1;33m\u001b[0m\u001b[0m\n\u001b[0m",
      "\u001b[1;31mNameError\u001b[0m: name 'pd' is not defined"
     ]
    }
   ],
   "source": [
    "kostil = pd.read_csv('dump.csv')"
   ]
  },
  {
   "cell_type": "code",
   "execution_count": 253,
   "metadata": {},
   "outputs": [],
   "source": [
    "kostil.columns = ['id', 'lat', 'lon', 'uid', 'timestamp', 'user']"
   ]
  },
  {
   "cell_type": "code",
   "execution_count": 254,
   "metadata": {},
   "outputs": [],
   "source": [
    "kostil = kostil[0:1000]"
   ]
  },
  {
   "cell_type": "code",
   "execution_count": 255,
   "metadata": {
    "scrolled": true
   },
   "outputs": [
    {
     "data": {
      "text/html": [
       "<div>\n",
       "<style scoped>\n",
       "    .dataframe tbody tr th:only-of-type {\n",
       "        vertical-align: middle;\n",
       "    }\n",
       "\n",
       "    .dataframe tbody tr th {\n",
       "        vertical-align: top;\n",
       "    }\n",
       "\n",
       "    .dataframe thead th {\n",
       "        text-align: right;\n",
       "    }\n",
       "</style>\n",
       "<table border=\"1\" class=\"dataframe\">\n",
       "  <thead>\n",
       "    <tr style=\"text-align: right;\">\n",
       "      <th></th>\n",
       "      <th>id</th>\n",
       "      <th>lat</th>\n",
       "      <th>lon</th>\n",
       "      <th>uid</th>\n",
       "      <th>timestamp</th>\n",
       "      <th>user</th>\n",
       "    </tr>\n",
       "  </thead>\n",
       "  <tbody>\n",
       "    <tr>\n",
       "      <th>0</th>\n",
       "      <td>223642</td>\n",
       "      <td>59.943448</td>\n",
       "      <td>30.306220</td>\n",
       "      <td>446083</td>\n",
       "      <td>2016-12-24 21:54:29</td>\n",
       "      <td>yuryleb</td>\n",
       "    </tr>\n",
       "    <tr>\n",
       "      <th>1</th>\n",
       "      <td>223707</td>\n",
       "      <td>59.942177</td>\n",
       "      <td>30.322871</td>\n",
       "      <td>3846961</td>\n",
       "      <td>2016-09-30 14:21:38</td>\n",
       "      <td>mini-me</td>\n",
       "    </tr>\n",
       "    <tr>\n",
       "      <th>2</th>\n",
       "      <td>226856</td>\n",
       "      <td>59.941514</td>\n",
       "      <td>30.318806</td>\n",
       "      <td>3846961</td>\n",
       "      <td>2016-10-06 20:03:15</td>\n",
       "      <td>mini-me</td>\n",
       "    </tr>\n",
       "    <tr>\n",
       "      <th>3</th>\n",
       "      <td>226862</td>\n",
       "      <td>59.942112</td>\n",
       "      <td>30.328161</td>\n",
       "      <td>3846961</td>\n",
       "      <td>2016-09-30 00:10:45</td>\n",
       "      <td>mini-me</td>\n",
       "    </tr>\n",
       "    <tr>\n",
       "      <th>4</th>\n",
       "      <td>226863</td>\n",
       "      <td>59.942501</td>\n",
       "      <td>30.326462</td>\n",
       "      <td>3846961</td>\n",
       "      <td>2016-09-30 00:10:46</td>\n",
       "      <td>mini-me</td>\n",
       "    </tr>\n",
       "  </tbody>\n",
       "</table>\n",
       "</div>"
      ],
      "text/plain": [
       "       id        lat        lon      uid            timestamp     user\n",
       "0  223642  59.943448  30.306220   446083  2016-12-24 21:54:29  yuryleb\n",
       "1  223707  59.942177  30.322871  3846961  2016-09-30 14:21:38  mini-me\n",
       "2  226856  59.941514  30.318806  3846961  2016-10-06 20:03:15  mini-me\n",
       "3  226862  59.942112  30.328161  3846961  2016-09-30 00:10:45  mini-me\n",
       "4  226863  59.942501  30.326462  3846961  2016-09-30 00:10:46  mini-me"
      ]
     },
     "execution_count": 255,
     "metadata": {},
     "output_type": "execute_result"
    }
   ],
   "source": [
    "kostil.head()"
   ]
  },
  {
   "cell_type": "code",
   "execution_count": 192,
   "metadata": {},
   "outputs": [],
   "source": [
    "# df_xml.describe"
   ]
  },
  {
   "cell_type": "code",
   "execution_count": 193,
   "metadata": {},
   "outputs": [
    {
     "data": {
      "text/plain": [
       "<FeatureCollection>"
      ]
     },
     "execution_count": 193,
     "metadata": {},
     "output_type": "execute_result"
    }
   ],
   "source": [
    "geoitems = kostil\n",
    "geoitems = my_gis.content.import_data(geoitems)\n",
    "geoitems"
   ]
  },
  {
   "cell_type": "code",
   "execution_count": 215,
   "metadata": {
    "scrolled": true
   },
   "outputs": [
    {
     "data": {
      "text/html": [
       "<p>Failed to display Jupyter Widget of type <code>MapView</code>.</p>\n",
       "<p>\n",
       "  If you're reading this message in the Jupyter Notebook or JupyterLab Notebook, it may mean\n",
       "  that the widgets JavaScript is still loading. If this message persists, it\n",
       "  likely means that the widgets JavaScript library is either not installed or\n",
       "  not enabled. See the <a href=\"https://ipywidgets.readthedocs.io/en/stable/user_install.html\">Jupyter\n",
       "  Widgets Documentation</a> for setup instructions.\n",
       "</p>\n",
       "<p>\n",
       "  If you're reading this message in another frontend (for example, a static\n",
       "  rendering on GitHub or <a href=\"https://nbviewer.jupyter.org/\">NBViewer</a>),\n",
       "  it may mean that your frontend doesn't currently support widgets.\n",
       "</p>\n"
      ],
      "text/plain": [
       "MapView(layout=Layout(height='400px', width='100%'), zoom=12.0)"
      ]
     },
     "metadata": {},
     "output_type": "execute_result"
    },
    {
     "data": {
      "text/html": [
       "<div class=\"map-static-img-preview-11e49f5e-4bcf-41c1-9eab-37877b04419e\"><img src=\"\"></img></div>"
      ],
      "text/plain": [
       "<IPython.core.display.HTML object>"
      ]
     },
     "metadata": {},
     "output_type": "execute_result"
    }
   ],
   "source": [
    "items_map = my_gis.map('Санкт-Петербург', zoomlevel=12)\n",
    "items_map.basemap = 'osm'\n",
    "items_map.add_layer(geoitems)\n",
    "items_map"
   ]
  },
  {
   "cell_type": "code",
   "execution_count": 225,
   "metadata": {},
   "outputs": [],
   "source": [
    "from geopy.distance import geodesic\n",
    "from geopy.geocoders import Nominatim\n",
    "\n",
    "\n",
    "class Adres_read():\n",
    "    def __init__(self, adress):\n",
    "        self.__geolocator = Nominatim(user_agent=\"specify_your_app_name_here\")\n",
    "        self.__location = self.__geolocator.geocode(adress)\n",
    "        # self.__location_place = (self.__location.latitude, self.__location.longitude)\n",
    "\n",
    "        self.__bounding = self.__location.raw['boundingbox']\n",
    "        # print(self.__bounding[0])\n",
    "        # geodesic(adress, self.__location_place).m)\n",
    "\n",
    "    def get_points(self):\n",
    "        return self.__bounding\n",
    "    \n"
   ]
  },
  {
   "cell_type": "code",
   "execution_count": 226,
   "metadata": {},
   "outputs": [],
   "source": [
    "from arcgis.gis import GIS\n",
    "import arcgis.geocoding as geocoding"
   ]
  },
  {
   "cell_type": "code",
   "execution_count": 227,
   "metadata": {},
   "outputs": [],
   "source": [
    "callback_map = items_map"
   ]
  },
  {
   "cell_type": "code",
   "execution_count": 229,
   "metadata": {},
   "outputs": [
    {
     "data": {
      "text/html": [
       "<p>Failed to display Jupyter Widget of type <code>MapView</code>.</p>\n",
       "<p>\n",
       "  If you're reading this message in the Jupyter Notebook or JupyterLab Notebook, it may mean\n",
       "  that the widgets JavaScript is still loading. If this message persists, it\n",
       "  likely means that the widgets JavaScript library is either not installed or\n",
       "  not enabled. See the <a href=\"https://ipywidgets.readthedocs.io/en/stable/user_install.html\">Jupyter\n",
       "  Widgets Documentation</a> for setup instructions.\n",
       "</p>\n",
       "<p>\n",
       "  If you're reading this message in another frontend (for example, a static\n",
       "  rendering on GitHub or <a href=\"https://nbviewer.jupyter.org/\">NBViewer</a>),\n",
       "  it may mean that your frontend doesn't currently support widgets.\n",
       "</p>\n"
      ],
      "text/plain": [
       "MapView(jupyter_target='notebook', layout=Layout(height='400px', width='100%'), ready=True, zoom=15.0)"
      ]
     },
     "metadata": {},
     "output_type": "execute_result"
    },
    {
     "data": {
      "text/html": [
       "<div class=\"map-static-img-preview-11e49f5e-4bcf-41c1-9eab-37877b04419e\"><img src=\"\"></img></div>"
      ],
      "text/plain": [
       "<IPython.core.display.HTML object>"
      ]
     },
     "metadata": {},
     "output_type": "execute_result"
    },
    {
     "name": "stdout",
     "output_type": "stream",
     "text": [
      "['59.9396788', '59.9403', '30.3165378', '30.3175006']\n"
     ]
    }
   ],
   "source": [
    "def find_addr(callback_map, g):\n",
    "    try:\n",
    "        callback_map.draw(g)\n",
    "        geocoded = geocoding.reverse_geocode(g)\n",
    "        address = geocoded['address']['Match_addr']\n",
    "        adres_read = Adres_read(address)\n",
    "        print(adres_read.get_points())\n",
    "        \n",
    "    except:\n",
    "#         print(\"Try another...\")\n",
    "        pass\n",
    "callback_map.on_click(find_addr)\n",
    "callback_map"
   ]
  },
  {
   "cell_type": "code",
   "execution_count": null,
   "metadata": {},
   "outputs": [],
   "source": []
  },
  {
   "cell_type": "markdown",
   "metadata": {},
   "source": [
    "# новый костыль"
   ]
  },
  {
   "cell_type": "code",
   "execution_count": 235,
   "metadata": {},
   "outputs": [
    {
     "ename": "IndentationError",
     "evalue": "unexpected indent (<ipython-input-235-a8f6758a718c>, line 70)",
     "output_type": "error",
     "traceback": [
      "\u001b[1;36m  File \u001b[1;32m\"<ipython-input-235-a8f6758a718c>\"\u001b[1;36m, line \u001b[1;32m70\u001b[0m\n\u001b[1;33m    a = Osm_reader(adres_read.get_points())\u001b[0m\n\u001b[1;37m    ^\u001b[0m\n\u001b[1;31mIndentationError\u001b[0m\u001b[1;31m:\u001b[0m unexpected indent\n"
     ]
    }
   ],
   "source": [
    "import osmapi\n",
    "import csv\n",
    "\n",
    "\n",
    "class Osm_reader():\n",
    "    def __init__(self, min_lon, min_lat, max_lon, max_lat):\n",
    "        self.__api = osmapi.OsmApi()\n",
    "        self.__tmp = self.__api.Map(min_lon, min_lat, max_lon, max_lat)\n",
    "        self.__ret = []\n",
    "\n",
    "        for e in self.__tmp:\n",
    "            try:\n",
    "                try:\n",
    "                    try:\n",
    "                        type_ = e['type']\n",
    "                        timestamp = e['data']['timestamp']\n",
    "                        id = e['data']['id']\n",
    "                        lat = e['data']['lat']\n",
    "                        lon = e['data']['lon']\n",
    "                        uid = e['data']['uid']\n",
    "                        user = str(e['data']['user'])\n",
    "                        tag = e['data']['tag']\n",
    "                        delta_days = (osmapi.datetime.today() - timestamp).days\n",
    "\n",
    "                        if type_ == 'node':\n",
    "                            self.__ret.append([id, lat, lon, uid, timestamp, user])\n",
    "                            # print(e)\n",
    "                            # print('type:', type_)\n",
    "                            # print('timestamp:', timestamp)\n",
    "                            # print(self.__ret[-1])\n",
    "                            # print('------------------------------------')\n",
    "                    except KeyError:\n",
    "                        pass\n",
    "                except IndexError:\n",
    "                    pass\n",
    "            except UnicodeEncodeError as err:\n",
    "                print(err, str(e) + '\\n')\n",
    "\n",
    "    # def __str__(self):\n",
    "    #     for e in self.__ret:\n",
    "    #         print(e)\n",
    "\n",
    "    def create_file(self):\n",
    "        with open('dump.csv', \"w\", newline='', encoding='utf-8') as csv_file:\n",
    "            writer = csv.writer(csv_file, delimiter=',')\n",
    "            # writer.writerow(['id', 'lat', 'lon', 'uid', 'timestamp'])\n",
    "            for line in self.__ret:\n",
    "                writer.writerow(line)\n",
    "\n",
    "    def get_values(self):\n",
    "        return self.__ret\n",
    "\n",
    "\n",
    "if __name__ == '__main__':\n",
    "    \n",
    "    a = Osm_reader(adres_read.get_points())\n",
    "    result = a.get_values()\n",
    "    a.create_file()\n",
    "    # for e in result:\n",
    "    #     print(str(e))"
   ]
  },
  {
   "cell_type": "code",
   "execution_count": null,
   "metadata": {},
   "outputs": [],
   "source": []
  }
 ],
 "metadata": {
  "kernelspec": {
   "display_name": "Python 3",
   "language": "python",
   "name": "python3"
  },
  "language_info": {
   "codemirror_mode": {
    "name": "ipython",
    "version": 3
   },
   "file_extension": ".py",
   "mimetype": "text/x-python",
   "name": "python",
   "nbconvert_exporter": "python",
   "pygments_lexer": "ipython3",
   "version": "3.7.0"
  }
 },
 "nbformat": 4,
 "nbformat_minor": 1
}
